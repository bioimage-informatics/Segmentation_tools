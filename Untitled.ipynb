{
 "cells": [
  {
   "cell_type": "code",
   "execution_count": null,
   "id": "dfe4f2b7",
   "metadata": {},
   "outputs": [],
   "source": [
    "# # Install stardist\n",
    "# # Anacondaプロンプトで\n",
    "# conda create --name stardist python=3.8\n",
    "# conda activate stardist\n",
    "# conda install jupyter\n",
    "# pip install ipykernel\n",
    "# ipython kernel install --user --name=stardist\n",
    "\n",
    "# tensorflowのインストール\n",
    "# pip install tensorflow==2.6.0\n",
    "# pip install keras==2.6 # tensorflowのバージョンと一致していない不具合が出るため\n",
    "\n",
    "\n",
    "\n",
    "# # その他\n",
    "# conda install jupyter\n",
    "# conda install -c conda-forge matplotlib"
   ]
  },
  {
   "cell_type": "code",
   "execution_count": 1,
   "id": "6287368e",
   "metadata": {},
   "outputs": [],
   "source": [
    "from stardist.models import StarDist2D"
   ]
  }
 ],
 "metadata": {
  "kernelspec": {
   "display_name": "stardist",
   "language": "python",
   "name": "stardist"
  },
  "language_info": {
   "codemirror_mode": {
    "name": "ipython",
    "version": 3
   },
   "file_extension": ".py",
   "mimetype": "text/x-python",
   "name": "python",
   "nbconvert_exporter": "python",
   "pygments_lexer": "ipython3",
   "version": "3.8.13"
  }
 },
 "nbformat": 4,
 "nbformat_minor": 5
}
