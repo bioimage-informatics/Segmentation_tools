{
 "cells": [
  {
   "cell_type": "code",
   "execution_count": null,
   "id": "0f5efb68",
   "metadata": {},
   "outputs": [],
   "source": [
    "# compute morphological features"
   ]
  },
  {
   "cell_type": "code",
   "execution_count": null,
   "id": "57052ecf",
   "metadata": {},
   "outputs": [],
   "source": [
    "def features(img):\n",
    "    lab = label(img)\n",
    "    props = regionprops(lab)"
   ]
  },
  {
   "cell_type": "code",
   "execution_count": 3,
   "id": "a0a5db6f",
   "metadata": {},
   "outputs": [],
   "source": [
    "# 画像の読み込み\n",
    "from tifffile import imread\n",
    "filename = './Sample/label.tif'\n",
    "label = imread(filename)"
   ]
  }
 ],
 "metadata": {
  "kernelspec": {
   "display_name": "Python 3 (ipykernel)",
   "language": "python",
   "name": "python3"
  },
  "language_info": {
   "codemirror_mode": {
    "name": "ipython",
    "version": 3
   },
   "file_extension": ".py",
   "mimetype": "text/x-python",
   "name": "python",
   "nbconvert_exporter": "python",
   "pygments_lexer": "ipython3",
   "version": "3.8.13"
  }
 },
 "nbformat": 4,
 "nbformat_minor": 5
}
